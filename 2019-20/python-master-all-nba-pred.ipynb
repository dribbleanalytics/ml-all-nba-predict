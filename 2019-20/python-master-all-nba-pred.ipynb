{
 "cells": [
  {
   "cell_type": "code",
   "execution_count": null,
   "metadata": {},
   "outputs": [],
   "source": [
    "import pandas as pd\n",
    "import numpy as np\n",
    "import matplotlib.pyplot as plt\n",
    "import seaborn as sns\n",
    "import sklearn.metrics as metrics\n",
    "from scikitplot.helpers import cumulative_gain_curve\n",
    "\n",
    "from sklearn.model_selection import train_test_split\n",
    "from imblearn.over_sampling import BorderlineSMOTE\n",
    "from keras.models import Sequential\n",
    "from keras.layers import Dense, Activation, Dropout, LeakyReLU\n",
    "from keras.regularizers import l1, l2\n",
    "from keras.callbacks import EarlyStopping\n",
    "\n",
    "from keras.models import load_model"
   ]
  },
  {
   "cell_type": "code",
   "execution_count": null,
   "metadata": {},
   "outputs": [],
   "source": [
    "df = pd.read_csv('full_nba_data.csv')"
   ]
  },
  {
   "cell_type": "code",
   "execution_count": null,
   "metadata": {},
   "outputs": [],
   "source": [
    "features = df.columns.values[10:-1]\n",
    "output = ['all-nba']"
   ]
  },
  {
   "cell_type": "markdown",
   "metadata": {},
   "source": [
    "# Create training, validation, and testing sets"
   ]
  },
  {
   "cell_type": "code",
   "execution_count": null,
   "metadata": {},
   "outputs": [],
   "source": [
    "train, test = train_test_split(df, test_size = 0.25, stratify = df['all-nba'], random_state = 0)\n",
    "\n",
    "xtrain = train[features]\n",
    "ytrain = train[output]\n",
    "\n",
    "xtest = test[features]\n",
    "ytest = test[output]\n",
    "\n",
    "print(\"Training set size: %.0f\" % len(xtrain))\n",
    "print(\"Testing set size: %.0f\" % len(xtest))"
   ]
  },
  {
   "cell_type": "code",
   "execution_count": null,
   "metadata": {},
   "outputs": [],
   "source": [
    "train, test = train_test_split(xtrain.join(ytrain), test_size = 0.33, stratify = ytrain['all-nba'], random_state = 0)\n",
    "\n",
    "xtrain = train[features]\n",
    "ytrain = train[output]\n",
    "\n",
    "xval = test[features]\n",
    "yval = test[output]\n",
    "\n",
    "print(\"Training set size: %.0f\" % len(xtrain))\n",
    "print(\"Testing set size: %.0f\" % len(xval))"
   ]
  },
  {
   "cell_type": "markdown",
   "metadata": {},
   "source": [
    "# SMOTE and data splitting"
   ]
  },
  {
   "cell_type": "code",
   "execution_count": null,
   "metadata": {},
   "outputs": [],
   "source": [
    "sm = BorderlineSMOTE(random_state = 0)\n",
    "xtrain, ytrain = sm.fit_resample(xtrain.values, ytrain.values.ravel())"
   ]
  },
  {
   "cell_type": "markdown",
   "metadata": {},
   "source": [
    "# Create model"
   ]
  },
  {
   "cell_type": "code",
   "execution_count": null,
   "metadata": {},
   "outputs": [],
   "source": [
    "model = Sequential()\n",
    "\n",
    "model.add(Dense(47, kernel_regularizer = l1(0.01)))\n",
    "model.add(LeakyReLU(alpha=0.1))\n",
    "model.add(Dropout(0.2, seed = 0))\n",
    "\n",
    "model.add(Dense(32, kernel_regularizer = l1(0.01)))\n",
    "model.add(LeakyReLU(alpha=0.1))\n",
    "model.add(Dropout(0.2, seed = 0))\n",
    "\n",
    "model.add(Dense(16, kernel_regularizer = l1(0.01)))\n",
    "model.add(LeakyReLU(alpha=0.1))\n",
    "model.add(Dropout(0.2, seed = 0))\n",
    "\n",
    "model.add(Dense(8, kernel_regularizer = l2(0.01)))\n",
    "model.add(LeakyReLU(alpha=0.1))\n",
    "model.add(Dropout(0.2, seed = 0))\n",
    "\n",
    "model.add(Dense(4, kernel_regularizer = l2(0.01)))\n",
    "model.add(LeakyReLU(alpha=0.1))\n",
    "model.add(Dropout(0.2, seed = 0))\n",
    "\n",
    "model.add(Dense(1, activation = 'sigmoid', kernel_regularizer = l2(0.01)))"
   ]
  },
  {
   "cell_type": "code",
   "execution_count": null,
   "metadata": {},
   "outputs": [],
   "source": [
    "model.compile(loss = 'binary_crossentropy', optimizer = 'adam', metrics = ['accuracy'])"
   ]
  },
  {
   "cell_type": "code",
   "execution_count": null,
   "metadata": {},
   "outputs": [],
   "source": [
    "history = model.fit(xtrain, ytrain, validation_data = (xval, yval), epochs = 200, batch_size = 32, verbose=2)"
   ]
  },
  {
   "cell_type": "code",
   "execution_count": null,
   "metadata": {},
   "outputs": [],
   "source": [
    "model.save('full_model.h5')"
   ]
  },
  {
   "cell_type": "code",
   "execution_count": null,
   "metadata": {},
   "outputs": [],
   "source": [
    "plt.style.use('fivethirtyeight')\n",
    "full_loss, ax = plt.subplots()\n",
    "\n",
    "ax.plot(history.history['loss'], label = 'train')\n",
    "ax.plot(history.history['val_loss'], label = 'valid.')\n",
    "\n",
    "ax.set_ylabel(\"Loss\")\n",
    "ax.set_xlabel(\"Epoch #\")\n",
    "\n",
    "ax.legend(loc='best', prop={'size': 15, \"family\": \"Rockwell\"})\n",
    "\n",
    "full_loss.text(x = -0.05, y = -0.07,\n",
    "    s = '_____________________________________________________________',\n",
    "    fontsize = 14, color = 'grey', horizontalalignment='left', alpha = .3)\n",
    "\n",
    "full_loss.text(x = -0.05, y = -.13,\n",
    "    s = 'https://dribbleanalytics.blog                     ',\n",
    "    fontsize = 14, fontname = 'Rockwell', color = 'grey', horizontalalignment='left')\n",
    "\n",
    "full_loss.savefig('full_loss.png', dpi = 400, bbox_inches = 'tight')"
   ]
  },
  {
   "cell_type": "code",
   "execution_count": null,
   "metadata": {},
   "outputs": [],
   "source": [
    "plt.style.use('fivethirtyeight')\n",
    "es_loss, ax = plt.subplots()\n",
    "\n",
    "ax.plot(history.history['loss'], label = 'train')\n",
    "ax.plot(history.history['val_loss'], label = 'valid.')\n",
    "\n",
    "ax.set_ylabel(\"Loss\")\n",
    "ax.set_xlabel(\"Epoch #\")\n",
    "\n",
    "ax.legend(loc='best', prop={'size': 15, \"family\": \"Rockwell\"})\n",
    "\n",
    "es_loss.text(x = -0.05, y = -0.07,\n",
    "    s = '_____________________________________________________________',\n",
    "    fontsize = 14, color = 'grey', horizontalalignment='left', alpha = .3)\n",
    "\n",
    "es_loss.text(x = -0.05, y = -.13,\n",
    "    s = 'https://dribbleanalytics.blog                     ',\n",
    "    fontsize = 14, fontname = 'Rockwell', color = 'grey', horizontalalignment='left')\n",
    "\n",
    "es_loss.savefig('es_loss.png', dpi = 400, bbox_inches = 'tight')"
   ]
  },
  {
   "cell_type": "code",
   "execution_count": null,
   "metadata": {},
   "outputs": [],
   "source": [
    "model.save('es_model.h5')"
   ]
  },
  {
   "cell_type": "code",
   "execution_count": null,
   "metadata": {},
   "outputs": [],
   "source": [
    "print('Train accuracy: %.2f' % (np.mean(history.history['accuracy'])))\n",
    "print('Validation accuracy: %.2f' % (np.mean(history.history['val_accuracy'])))"
   ]
  },
  {
   "cell_type": "markdown",
   "metadata": {},
   "source": [
    "# Model evaluation"
   ]
  },
  {
   "cell_type": "code",
   "execution_count": null,
   "metadata": {},
   "outputs": [],
   "source": [
    "y_prob = model.predict(xtest)\n",
    "rounded = [round(x[0]) for x in y_prob]\n",
    "y_pred = np.array(rounded, dtype = 'int64')"
   ]
  },
  {
   "cell_type": "code",
   "execution_count": null,
   "metadata": {},
   "outputs": [],
   "source": [
    "cm = metrics.confusion_matrix(ytest, y_pred)\n",
    "\n",
    "plt.style.use(\"fivethirtyeight\")\n",
    "cm_plot, ax = plt.subplots()\n",
    "\n",
    "sns.heatmap(cm, annot=True, ax = ax, linewidth = 2, fmt='g')\n",
    "\n",
    "ax.set_xlabel(\"Predicted\")\n",
    "ax.set_ylabel(\"Actual\")\n",
    "\n",
    "cm_plot.suptitle(\"Model Confusion Matrix\", weight = 'bold', size = 18, x = .45)\n",
    "\n",
    "cm_plot.text(x = -0.02, y = -0.08,\n",
    "    s = '___________________________________________________________',\n",
    "    fontsize = 14, color = 'grey', horizontalalignment='left', alpha = .3)\n",
    "\n",
    "cm_plot.text(x = -0.02, y = -.14,\n",
    "    s = 'https://dribbleanalytics.blog                     ',\n",
    "    fontsize = 14, fontname = 'Rockwell', color = 'grey', horizontalalignment='left')\n",
    "\n",
    "cm_plot.savefig('cm.png', dpi = 400, bbox_inches = 'tight')"
   ]
  },
  {
   "cell_type": "code",
   "execution_count": null,
   "metadata": {},
   "outputs": [],
   "source": [
    "print(\"Accuracy score: %.3f\" % metrics.accuracy_score(ytest, y_pred))\n",
    "print(\"Recall: %.3f\" % metrics.recall_score(ytest, y_pred))\n",
    "print(\"Precision: %.3f\" % metrics.precision_score(ytest, y_pred))\n",
    "print(\"F1: %.3f\" % metrics.f1_score(ytest, y_pred))\n",
    "\n",
    "print(\"Log loss: %.3f\" % metrics.log_loss(ytest, y_prob))\n",
    "print(\"Breir score: %.3f\" % metrics.brier_score_loss(ytest, y_prob))"
   ]
  },
  {
   "cell_type": "code",
   "execution_count": null,
   "metadata": {},
   "outputs": [],
   "source": [
    "# plot roc curve and calculate auc-roc\n",
    "\n",
    "plt.style.use('fivethirtyeight')\n",
    "\n",
    "roc, ax = plt.subplots()\n",
    "\n",
    "fpr, tpr, _ = metrics.roc_curve(ytest, y_prob)\n",
    "ax.plot(fpr, tpr)\n",
    "ax.plot([0, 1], [0, 1], linestyle = '--')    \n",
    "\n",
    "ax.set_xlabel(\"False Positive Rate\")\n",
    "ax.set_ylabel(\"True Positive Rate\")\n",
    "ax.set_title(\"AUC-ROC: %.2f\" % metrics.roc_auc_score(ytest, y_prob), fontname = 'Rockwell', fontsize = 14)\n",
    "\n",
    "roc.suptitle(\"ROC Curve\", weight = 'bold', y = 1.007, size = 18)\n",
    "\n",
    "roc.text(x = -0.03, y = -0.08,\n",
    "        s = '______________________________________________________________',\n",
    "        fontsize = 14, color = 'grey', horizontalalignment='left', alpha = .3)\n",
    "\n",
    "roc.text(x = -0.03, y = -.14,\n",
    "    s = 'https://dribbleanalytics.blog                     ',\n",
    "    fontsize = 14, fontname = 'Rockwell', color = 'grey', horizontalalignment='left')\n",
    "\n",
    "roc.savefig('roc.png', dpi = 400, bbox_inches = 'tight')"
   ]
  },
  {
   "cell_type": "code",
   "execution_count": null,
   "metadata": {},
   "outputs": [],
   "source": [
    "# these two functions are adapted directly from scikitplot's own functions. i adapted them to be able to customize the plots\n",
    "# better (such as being able to move the legend, changing axis titles, etc.)\n",
    "# the original code is found here: https://github.com/reiinakano/scikit-plot/blob/master/scikitplot/metrics.py\n",
    "\n",
    "def plot_cumulative_gain(y_true, y_probas, ax = None):\n",
    "\n",
    "    y_true = np.array(y_true)\n",
    "    y_probas = np.array(y_probas)\n",
    "\n",
    "    classes = np.unique(y_true)\n",
    "\n",
    "    percentages, gains1 = cumulative_gain_curve(y_true, y_probas[:, 0],\n",
    "                                                classes[0])\n",
    "    percentages, gains2 = cumulative_gain_curve(y_true, y_probas[:, 1],\n",
    "                                                classes[1])\n",
    "\n",
    "    ax.plot(percentages, gains1, lw=3, label='Class {}'.format(classes[0]))\n",
    "    ax.plot(percentages, gains2, lw=3, label='Class {}'.format(classes[1]))\n",
    "\n",
    "    ax.set_xlim([0.0, 1.0])\n",
    "    ax.set_ylim([0.0, 1.01])\n",
    "\n",
    "\n",
    "    ax.plot([0, 1], [0, 1], 'k--', lw=2, label='Baseline')\n",
    "\n",
    "    ax.grid('on')\n",
    "    ax.legend(loc='best', prop={'size': 15, \"family\": \"Rockwell\"})\n",
    "\n",
    "    return ax\n",
    "\n",
    "\n",
    "def plot_lift_curve(y_true, y_probas, ax = None):\n",
    "\n",
    "    y_true = np.array(y_true)\n",
    "    y_probas = np.array(y_probas)\n",
    "\n",
    "    classes = np.unique(y_true)\n",
    "    percentages, gains1 = cumulative_gain_curve(y_true, y_probas[:, 0],\n",
    "                                                classes[0])\n",
    "    percentages, gains2 = cumulative_gain_curve(y_true, y_probas[:, 1],\n",
    "                                                classes[1])\n",
    "\n",
    "    percentages = percentages[1:]\n",
    "    gains1 = gains1[1:]\n",
    "    gains2 = gains2[1:]\n",
    "\n",
    "    gains1 = gains1 / percentages\n",
    "    gains2 = gains2 / percentages\n",
    "\n",
    "    ax.plot(percentages, gains1, lw=3, label='Class {}'.format(classes[0]))\n",
    "    ax.plot(percentages, gains2, lw=3, label='Class {}'.format(classes[1]))\n",
    "\n",
    "    ax.plot([0, 1], [1, 1], 'k--', lw=2, label='Baseline')\n",
    "\n",
    "    ax.grid('on')\n",
    "    ax.legend(loc='best', prop={'size': 15, \"family\": \"Rockwell\"})\n",
    "\n",
    "    return ax"
   ]
  },
  {
   "cell_type": "code",
   "execution_count": null,
   "metadata": {},
   "outputs": [],
   "source": [
    "dual_prob = []\n",
    "for i in y_prob:\n",
    "    dual_prob.append([1-i[0], i[0]])\n",
    "    \n",
    "gain, ax = plt.subplots()\n",
    "\n",
    "plot_cumulative_gain(ytest, dual_prob, ax = ax)\n",
    "\n",
    "ax.set_xlabel('% of sample')\n",
    "ax.set_ylabel('Gain')\n",
    "\n",
    "gain.suptitle(\"Model Cumulative Gain\", weight = 'bold', size = 18)\n",
    "\n",
    "gain.text(x = -0.03, y = -0.08,\n",
    "        s = '______________________________________________________________',\n",
    "        fontsize = 14, color = 'grey', horizontalalignment='left', alpha = .3)\n",
    "\n",
    "gain.text(x = -0.03, y = -.14,\n",
    "    s = 'https://dribbleanalytics.blog                     ',\n",
    "    fontsize = 14, fontname = 'Rockwell', color = 'grey', horizontalalignment='left')\n",
    "\n",
    "gain.savefig('gain.png', dpi = 400, bbox_inches = 'tight')"
   ]
  },
  {
   "cell_type": "code",
   "execution_count": null,
   "metadata": {},
   "outputs": [],
   "source": [
    "lift, ax = plt.subplots()\n",
    "plot_lift_curve(ytest, dual_prob, ax = ax)\n",
    "\n",
    "ax.set_xlabel('% of sample')\n",
    "ax.set_ylabel('Lift')\n",
    "\n",
    "lift.suptitle(\"Model Lift Curve\", weight = 'bold', size = 18)\n",
    "\n",
    "lift.text(x = -0.03, y = -0.08,\n",
    "        s = '______________________________________________________________',\n",
    "        fontsize = 14, color = 'grey', horizontalalignment='left', alpha = .3)\n",
    "\n",
    "lift.text(x = -0.03, y = -.14,\n",
    "    s = 'https://dribbleanalytics.blog                     ',\n",
    "    fontsize = 14, fontname = 'Rockwell', color = 'grey', horizontalalignment='left')\n",
    "\n",
    "lift.savefig('lift.png', dpi = 400, bbox_inches = 'tight')"
   ]
  },
  {
   "cell_type": "markdown",
   "metadata": {},
   "source": [
    "# Make predictions"
   ]
  },
  {
   "cell_type": "code",
   "execution_count": null,
   "metadata": {},
   "outputs": [],
   "source": [
    "model = load_model('es_model.h5')"
   ]
  },
  {
   "cell_type": "code",
   "execution_count": null,
   "metadata": {},
   "outputs": [],
   "source": [
    "df_curr = pd.read_csv('current_data.csv')\n",
    "\n",
    "x_pred = df_curr[features]"
   ]
  },
  {
   "cell_type": "code",
   "execution_count": null,
   "metadata": {},
   "outputs": [],
   "source": [
    "df_pred = pd.DataFrame(zip(df_curr['player'], [i[0] for i in model.predict(x_pred)]), columns = ['player', 'all-nba-prob'])\n",
    "\n",
    "df_pred.sort_values(by = ['all-nba-prob'], ascending = False).to_csv('results.csv', index = False)"
   ]
  }
 ],
 "metadata": {
  "kernelspec": {
   "display_name": "Python 3",
   "language": "python",
   "name": "python3"
  },
  "language_info": {
   "codemirror_mode": {
    "name": "ipython",
    "version": 3
   },
   "file_extension": ".py",
   "mimetype": "text/x-python",
   "name": "python",
   "nbconvert_exporter": "python",
   "pygments_lexer": "ipython3",
   "version": "3.6.4"
  }
 },
 "nbformat": 4,
 "nbformat_minor": 2
}
