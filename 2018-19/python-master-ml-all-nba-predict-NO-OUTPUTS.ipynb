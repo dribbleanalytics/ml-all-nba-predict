{
 "cells": [
  {
   "cell_type": "code",
   "execution_count": null,
   "metadata": {},
   "outputs": [],
   "source": [
    "# Import necessary packages\n",
    "\n",
    "%matplotlib inline\n",
    "\n",
    "import pandas as pd\n",
    "import numpy as np\n",
    "import matplotlib.pyplot as plt\n",
    "import seaborn as sns\n",
    "from sklearn.model_selection import train_test_split\n",
    "from sklearn.svm import SVC\n",
    "from sklearn.ensemble import RandomForestClassifier\n",
    "from sklearn import neighbors\n",
    "from sklearn.neural_network import MLPClassifier\n",
    "import sklearn.metrics as metrics\n",
    "from sklearn.model_selection import KFold\n",
    "from operator import itemgetter\n",
    "from sklearn.model_selection import cross_val_score"
   ]
  },
  {
   "cell_type": "code",
   "execution_count": null,
   "metadata": {},
   "outputs": [],
   "source": [
    "# Import the datasets\n",
    "\n",
    "dfHistorical = pd.read_csv('historical-all-nba.csv')\n",
    "dfCurrent = pd.read_csv('current-all-nba.csv')"
   ]
  },
  {
   "cell_type": "code",
   "execution_count": null,
   "metadata": {},
   "outputs": [],
   "source": [
    "dfHistorical.head()"
   ]
  },
  {
   "cell_type": "markdown",
   "metadata": {},
   "source": [
    "# Visualizing All-NBA selections"
   ]
  },
  {
   "cell_type": "code",
   "execution_count": null,
   "metadata": {},
   "outputs": [],
   "source": [
    "all_nba = dfHistorical.loc[dfHistorical['All-NBA'] == 1]\n",
    "non_all_nba = dfHistorical.loc[dfHistorical['All-NBA'] == 0]"
   ]
  },
  {
   "cell_type": "code",
   "execution_count": null,
   "metadata": {},
   "outputs": [],
   "source": [
    "plt.style.use('fivethirtyeight')\n",
    "\n",
    "ppg_wins, ax = plt.subplots()\n",
    "\n",
    "ax.scatter(all_nba['PTS'], all_nba['Team Wins'], label = \"All-NBA players\", s = 25)\n",
    "ax.scatter(non_all_nba['PTS'], non_all_nba['Team Wins'], label = \"The rest\", s = 25)\n",
    "\n",
    "ax.legend(loc='best', prop={'size': 9, \"family\": \"Rockwell\"})\n",
    "\n",
    "ax.set_xlabel('PPG')\n",
    "ax.set_ylabel('Team Wins')\n",
    "\n",
    "ppg_wins.suptitle(\"PPG, Wins, and All-NBA Selections\", weight = 'bold', size = 18)\n",
    "\n",
    "ppg_wins.text(x = -0.02, y = -0.08,\n",
    "    s = '____________________________________________________________',\n",
    "    fontsize = 14, color = 'grey', horizontalalignment='left')\n",
    "\n",
    "ppg_wins.text(x = -0.02, y = -.14,\n",
    "    s = 'dribbleanalytics.blogspot.com                     ',\n",
    "    fontsize = 14, fontname = 'Rockwell', color = 'grey', horizontalalignment='left')\n",
    "\n",
    "ppg_wins.savefig('ppg_wins.png', dpi = 400, bbox_inches = 'tight')"
   ]
  },
  {
   "cell_type": "code",
   "execution_count": null,
   "metadata": {},
   "outputs": [],
   "source": [
    "plt.style.use('fivethirtyeight')\n",
    "\n",
    "ppg_ws, ax = plt.subplots()\n",
    "\n",
    "ax.scatter(all_nba['PTS'], all_nba['WS'], label = \"All-NBA players\", s = 25)\n",
    "ax.scatter(non_all_nba['PTS'], non_all_nba['WS'], label = \"The rest\", s = 25)\n",
    "\n",
    "ax.legend(loc='best', prop={'size': 9, \"family\": \"Rockwell\"})\n",
    "\n",
    "ax.set_xlabel('PPG')\n",
    "ax.set_ylabel('WS')\n",
    "\n",
    "ppg_ws.suptitle(\"PPG, WS, and All-NBA Selections\", weight = 'bold', size = 18)\n",
    "\n",
    "ppg_ws.text(x = -0.02, y = -0.08,\n",
    "    s = '____________________________________________________________',\n",
    "    fontsize = 14, color = 'grey', horizontalalignment='left')\n",
    "\n",
    "ppg_ws.text(x = -0.02, y = -.14,\n",
    "    s = 'dribbleanalytics.blogspot.com                     ',\n",
    "    fontsize = 14, fontname = 'Rockwell', color = 'grey', horizontalalignment='left')\n",
    "\n",
    "ppg_ws.savefig('ppg_ws.png', dpi = 400, bbox_inches = 'tight')"
   ]
  },
  {
   "cell_type": "code",
   "execution_count": null,
   "metadata": {},
   "outputs": [],
   "source": [
    "vorp_wins, ax = plt.subplots()\n",
    "\n",
    "ax.scatter(all_nba['VORP'], all_nba['Team Wins'], label = \"All-NBA players\", s = 25)\n",
    "ax.scatter(non_all_nba['VORP'], non_all_nba['Team Wins'], label = \"The rest\", s = 25)\n",
    "\n",
    "ax.legend(loc='best', prop={'size': 9, \"family\": \"Rockwell\"})\n",
    "\n",
    "ax.set_xlabel('VORP')\n",
    "ax.set_ylabel('Team Wins')\n",
    "\n",
    "vorp_wins.suptitle(\"VORP, Wins, and All-NBA Selections\", weight = 'bold', size = 18)\n",
    "\n",
    "vorp_wins.text(x = -0.02, y = -0.08,\n",
    "    s = '____________________________________________________________',\n",
    "    fontsize = 14, color = 'grey', horizontalalignment='left')\n",
    "\n",
    "vorp_wins.text(x = -0.02, y = -.14,\n",
    "    s = 'dribbleanalytics.blogspot.com                     ',\n",
    "    fontsize = 14, fontname = 'Rockwell', color = 'grey', horizontalalignment='left')\n",
    "\n",
    "vorp_wins.savefig('vorp_wins.png', dpi = 400, bbox_inches = 'tight')"
   ]
  },
  {
   "cell_type": "code",
   "execution_count": null,
   "metadata": {},
   "outputs": [],
   "source": [
    "vorp_ws, ax = plt.subplots()\n",
    "\n",
    "ax.scatter(all_nba['VORP'], all_nba['WS'], label = \"All-NBA players\", s = 25)\n",
    "ax.scatter(non_all_nba['VORP'], non_all_nba['WS'], label = \"The rest\", s = 25)\n",
    "\n",
    "ax.legend(loc='best', prop={'size': 9, \"family\": \"Rockwell\"})\n",
    "\n",
    "ax.set_xlabel('VORP')\n",
    "ax.set_ylabel('WS')\n",
    "\n",
    "vorp_ws.suptitle(\"VORP, WS, and All-NBA Selections\", weight = 'bold', size = 18)\n",
    "\n",
    "vorp_ws.text(x = -0.02, y = -0.08,\n",
    "    s = '____________________________________________________________',\n",
    "    fontsize = 14, color = 'grey', horizontalalignment='left')\n",
    "\n",
    "vorp_ws.text(x = -0.02, y = -.14,\n",
    "    s = 'dribbleanalytics.blogspot.com                     ',\n",
    "    fontsize = 14, fontname = 'Rockwell', color = 'grey', horizontalalignment='left')\n",
    "\n",
    "vorp_ws.savefig('vorp_ws.png', dpi = 400, bbox_inches = 'tight')"
   ]
  },
  {
   "cell_type": "code",
   "execution_count": null,
   "metadata": {},
   "outputs": [],
   "source": [
    "ppg_hist, ax = plt.subplots()\n",
    "\n",
    "ax.hist(all_nba['PTS'], alpha = .75, label = 'All-NBA players')\n",
    "ax.hist(non_all_nba['PTS'], alpha = .75, label = 'The rest')\n",
    "\n",
    "ax.legend(loc='best', prop={'size': 9, \"family\": \"Rockwell\"})\n",
    "\n",
    "ax.set_xlabel('PPG')\n",
    "ax.set_ylabel('Frequency')\n",
    "\n",
    "ppg_hist.suptitle(\"PPG Histogram\", weight = 'bold', size = 18)\n",
    "\n",
    "ppg_hist.text(x = -0.04, y = -0.08,\n",
    "    s = '______________________________________________________________',\n",
    "    fontsize = 14, color = 'grey', horizontalalignment='left')\n",
    "\n",
    "ppg_hist.text(x = -0.04, y = -.14,\n",
    "    s = 'dribbleanalytics.blogspot.com                     ',\n",
    "    fontsize = 14, fontname = 'Rockwell', color = 'grey', horizontalalignment='left')\n",
    "\n",
    "ppg_hist.savefig('ppg_hist.png', dpi = 400, bbox_inches = 'tight')"
   ]
  },
  {
   "cell_type": "code",
   "execution_count": null,
   "metadata": {},
   "outputs": [],
   "source": [
    "vorp_hist, ax = plt.subplots()\n",
    "\n",
    "ax.hist(all_nba['VORP'], alpha = .75, label = 'All-NBA players')\n",
    "ax.hist(non_all_nba['VORP'], alpha = .75, label = 'The rest')\n",
    "\n",
    "ax.legend(loc='best', prop={'size': 9, \"family\": \"Rockwell\"})\n",
    "\n",
    "ax.set_xlabel('VORP')\n",
    "ax.set_ylabel('Frequency')\n",
    "\n",
    "vorp_hist.suptitle(\"VORP Histogram\", weight = 'bold', size = 18)\n",
    "\n",
    "vorp_hist.text(x = -0.04, y = -0.08,\n",
    "    s = '______________________________________________________________',\n",
    "    fontsize = 14, color = 'grey', horizontalalignment='left')\n",
    "\n",
    "vorp_hist.text(x = -0.04, y = -.14,\n",
    "    s = 'dribbleanalytics.blogspot.com                     ',\n",
    "    fontsize = 14, fontname = 'Rockwell', color = 'grey', horizontalalignment='left')\n",
    "\n",
    "vorp_hist.savefig('vorp_hist.png', dpi = 400, bbox_inches = 'tight')"
   ]
  },
  {
   "cell_type": "code",
   "execution_count": null,
   "metadata": {},
   "outputs": [],
   "source": [
    "ws_hist, ax = plt.subplots()\n",
    "\n",
    "ax.hist(all_nba['WS'], alpha = .75, label = 'All-NBA players')\n",
    "ax.hist(non_all_nba['WS'], alpha = .75, label = 'The rest')\n",
    "\n",
    "ax.legend(loc='best', prop={'size': 9, \"family\": \"Rockwell\"})\n",
    "\n",
    "ax.set_xlabel('WS')\n",
    "ax.set_ylabel('Frequency')\n",
    "\n",
    "ws_hist.suptitle(\"WS Histogram\", weight = 'bold', size = 18)\n",
    "\n",
    "ws_hist.text(x = -0.04, y = -0.08,\n",
    "    s = '______________________________________________________________',\n",
    "    fontsize = 14, color = 'grey', horizontalalignment='left')\n",
    "\n",
    "ws_hist.text(x = -0.04, y = -.14,\n",
    "    s = 'dribbleanalytics.blogspot.com                     ',\n",
    "    fontsize = 14, fontname = 'Rockwell', color = 'grey', horizontalalignment='left')\n",
    "\n",
    "ws_hist.savefig('ws_hist.png', dpi = 400, bbox_inches = 'tight')"
   ]
  },
  {
   "cell_type": "code",
   "execution_count": null,
   "metadata": {},
   "outputs": [],
   "source": [
    "wins_hist, ax = plt.subplots()\n",
    "\n",
    "ax.hist(all_nba['Team Wins'], alpha = .75, label = 'All-NBA players')\n",
    "ax.hist(non_all_nba['Team Wins'], alpha = .75, label = 'The rest')\n",
    "\n",
    "ax.legend(loc='best', prop={'size': 9, \"family\": \"Rockwell\"})\n",
    "\n",
    "ax.set_xlabel('Team Wins')\n",
    "ax.set_ylabel('Frequency')\n",
    "\n",
    "wins_hist.suptitle(\"Team Wins Histogram\", weight = 'bold', size = 18)\n",
    "\n",
    "wins_hist.text(x = -0.04, y = -0.08,\n",
    "    s = '______________________________________________________________',\n",
    "    fontsize = 14, color = 'grey', horizontalalignment='left')\n",
    "\n",
    "wins_hist.text(x = -0.04, y = -.14,\n",
    "    s = 'dribbleanalytics.blogspot.com                     ',\n",
    "    fontsize = 14, fontname = 'Rockwell', color = 'grey', horizontalalignment='left')\n",
    "\n",
    "wins_hist.savefig('wins_hist.png', dpi = 400, bbox_inches = 'tight')"
   ]
  },
  {
   "cell_type": "markdown",
   "metadata": {},
   "source": [
    "# Create models"
   ]
  },
  {
   "cell_type": "code",
   "execution_count": null,
   "metadata": {},
   "outputs": [],
   "source": [
    "train, test = train_test_split(dfHistorical, test_size = 0.25, random_state = 36)\n",
    "\n",
    "xtrain = train[['Team Wins', 'Overall Seed', 'PTS', 'TRB', 'AST', 'VORP', 'WS', 'All-Star']]\n",
    "ytrain = train[['All-NBA']]\n",
    "\n",
    "xtest = test[['Team Wins', 'Overall Seed', 'PTS', 'TRB', 'AST', 'VORP', 'WS', 'All-Star']]\n",
    "ytest = test[['All-NBA']]\n",
    "\n",
    "print(\"Training set size: %.0f\" % len(xtrain))\n",
    "print(\"Testing set size: %.0f\" % len(xtest))"
   ]
  },
  {
   "cell_type": "code",
   "execution_count": null,
   "metadata": {},
   "outputs": [],
   "source": [
    "# Create function that gives accuracy scores for each model\n",
    "\n",
    "def scores(model):\n",
    "    \n",
    "    model.fit(xtrain, ytrain.values.ravel())\n",
    "    y_pred = model.predict(xtest)\n",
    "    \n",
    "    print(\"Accuracy score: %.3f\" % metrics.accuracy_score(ytest, y_pred))\n",
    "    print(\"Recall: %.3f\" % metrics.recall_score(ytest, y_pred))\n",
    "    print(\"Precision: %.3f\" % metrics.precision_score(ytest, y_pred))\n",
    "    print(\"F1: %.3f\" % metrics.f1_score(ytest, y_pred))\n",
    "    \n",
    "    proba = model.predict_proba(xtest)\n",
    "    print(\"Log loss: %.3f\" % metrics.log_loss(ytest, proba))\n",
    "\n",
    "    pos_prob = proba[:, 1]\n",
    "    print(\"Area under ROC curve: %.3f\" % metrics.roc_auc_score(ytest, pos_prob))\n",
    "    \n",
    "    cv = cross_val_score(model, xtest, ytest.values.ravel(), cv = 3, scoring = 'accuracy')\n",
    "    print(\"Accuracy (cross validation score): %0.3f (+/- %0.3f)\" % (cv.mean(), cv.std() * 2))\n",
    "    \n",
    "    return y_pred"
   ]
  },
  {
   "cell_type": "code",
   "execution_count": null,
   "metadata": {},
   "outputs": [],
   "source": [
    "svc = SVC(kernel = 'rbf', gamma = 1e-3, C = 100, probability = True)\n",
    "\n",
    "y_svc = scores(svc)"
   ]
  },
  {
   "cell_type": "code",
   "execution_count": null,
   "metadata": {},
   "outputs": [],
   "source": [
    "rf = RandomForestClassifier(random_state = 999, n_estimators = 100, criterion = 'gini')\n",
    "\n",
    "y_rf = scores(rf)"
   ]
  },
  {
   "cell_type": "code",
   "execution_count": null,
   "metadata": {},
   "outputs": [],
   "source": [
    "knn = neighbors.KNeighborsClassifier(n_neighbors = 12, weights = 'uniform')\n",
    "\n",
    "y_knn = scores(knn)"
   ]
  },
  {
   "cell_type": "code",
   "execution_count": null,
   "metadata": {},
   "outputs": [],
   "source": [
    "dnn = MLPClassifier(solver = 'lbfgs', hidden_layer_sizes = 100, random_state = 999, activation = 'relu')\n",
    "\n",
    "y_dnn = scores(dnn)"
   ]
  },
  {
   "cell_type": "markdown",
   "metadata": {},
   "source": [
    "# Create confusion matrices"
   ]
  },
  {
   "cell_type": "code",
   "execution_count": null,
   "metadata": {},
   "outputs": [],
   "source": [
    "def confusion_matrix(y_pred, model_name):\n",
    "    cm = metrics.confusion_matrix(ytest, y_pred)\n",
    "\n",
    "    plt.style.use(\"fivethirtyeight\")\n",
    "    z, ax = plt.subplots()\n",
    "\n",
    "    sns.heatmap(cm, annot=True, ax = ax, linewidth = 2, fmt='g')\n",
    "\n",
    "    ax.set_xlabel(\"Predicted\")\n",
    "    ax.set_ylabel(\"Actual\")\n",
    "\n",
    "    z.suptitle(\"%s Confusion Matrix\" % model_name.upper(), weight = 'bold', size = 18, x = .45)\n",
    "    \n",
    "    z.text(x = 0, y = -0.08,\n",
    "        s = '__________________________________________________________',\n",
    "        fontsize = 14, color = 'grey', horizontalalignment='left')\n",
    "\n",
    "    z.text(x = 0, y = -.14,\n",
    "        s = 'dribbleanalytics.blogspot.com                     ',\n",
    "        fontsize = 14, fontname = 'Rockwell', color = 'grey', horizontalalignment='left')\n",
    "\n",
    "    z.savefig('%s_cm.png' % model_name, dpi = 400, bbox_inches = 'tight')"
   ]
  },
  {
   "cell_type": "code",
   "execution_count": null,
   "metadata": {},
   "outputs": [],
   "source": [
    "confusion_matrix(y_svc, 'svc')"
   ]
  },
  {
   "cell_type": "code",
   "execution_count": null,
   "metadata": {},
   "outputs": [],
   "source": [
    "confusion_matrix(y_rf, 'rf')"
   ]
  },
  {
   "cell_type": "code",
   "execution_count": null,
   "metadata": {},
   "outputs": [],
   "source": [
    "confusion_matrix(y_knn, 'knn')"
   ]
  },
  {
   "cell_type": "code",
   "execution_count": null,
   "metadata": {},
   "outputs": [],
   "source": [
    "confusion_matrix(y_dnn, 'dnn')"
   ]
  },
  {
   "cell_type": "markdown",
   "metadata": {},
   "source": [
    "# Create ROC curve"
   ]
  },
  {
   "cell_type": "code",
   "execution_count": null,
   "metadata": {},
   "outputs": [],
   "source": [
    "def roc_curve(model):\n",
    "\n",
    "    proba = model.predict_proba(xtest)\n",
    "    pos_prob = proba[:, 1]\n",
    "    fpr, tpr, threshold = metrics.roc_curve(ytest, pos_prob)\n",
    "    \n",
    "    return (fpr, tpr, pos_prob)"
   ]
  },
  {
   "cell_type": "code",
   "execution_count": null,
   "metadata": {},
   "outputs": [],
   "source": [
    "plt.style.use('fivethirtyeight')\n",
    "\n",
    "roc, ((ax1, ax2), (ax3, ax4)) = plt.subplots(2, 2, sharey = True, sharex = True)\n",
    "\n",
    "fpr, tpr, pos_prob = roc_curve(svc)\n",
    "ax1.plot(fpr, tpr)\n",
    "ax1.plot([0, 1], [0, 1], linestyle = '--')\n",
    "ax1.set_title(\"SVC: %.2f\" % metrics.roc_auc_score(ytest, pos_prob), size = 15, x = .485, ha = 'center')\n",
    "\n",
    "fpr, tpr, pos_prob = roc_curve(rf)\n",
    "ax2.plot(fpr, tpr)\n",
    "ax2.plot([0, 1], [0, 1], linestyle = '--')\n",
    "ax2.set_title(\"RF: %.2f\" % metrics.roc_auc_score(ytest, pos_prob), size = 15, x = .485, ha = 'center')\n",
    "\n",
    "fpr, tpr, pos_prob = roc_curve(knn)\n",
    "ax3.plot(fpr, tpr)\n",
    "ax3.plot([0, 1], [0, 1], linestyle = '--')\n",
    "ax3.set_title(\"KNN: %.2f\" % metrics.roc_auc_score(ytest, pos_prob), size = 15, x = .485, ha = 'center')\n",
    "\n",
    "fpr, tpr, pos_prob = roc_curve(dnn)\n",
    "ax4.plot(fpr, tpr)\n",
    "ax4.plot([0, 1], [0, 1], linestyle = '--')\n",
    "ax4.set_title(\"DNN: %.2f\" % metrics.roc_auc_score(ytest, pos_prob), size = 15, x = .485, ha = 'center')\n",
    "\n",
    "roc.text(-0.03, 0.5, \"True positive rate\", va='center', rotation='vertical', size = 18)\n",
    "roc.text(0.5, -0.045, \"False positive rate\", ha = 'center', size = 18)\n",
    "\n",
    "roc.suptitle(\"Model ROC Curves\", y = 1.045, weight = 'bold', size = 18)\n",
    "\n",
    "roc.text(x = -0.03, y = -0.08,\n",
    "        s = '______________________________________________________________',\n",
    "        fontsize = 14, color = 'grey', horizontalalignment='left')\n",
    "\n",
    "roc.text(x = -0.03, y = -.14,\n",
    "    s = 'dribbleanalytics.blogspot.com                     ',\n",
    "    fontsize = 14, fontname = 'Rockwell', color = 'grey', horizontalalignment='left')\n",
    "\n",
    "roc.savefig('roc.png', dpi = 400, bbox_inches = 'tight')"
   ]
  },
  {
   "cell_type": "markdown",
   "metadata": {},
   "source": [
    "# Prediction"
   ]
  },
  {
   "cell_type": "code",
   "execution_count": null,
   "metadata": {},
   "outputs": [],
   "source": [
    "dfCurrentNames = dfCurrent.iloc[:, 0]\n",
    "dfCurrentPredict = dfCurrent[['Team Wins', 'Overall Seed', 'PTS', 'TRB', 'AST', 'VORP', 'WS', 'All-Star']]\n",
    "\n",
    "dfCurrent.head()"
   ]
  },
  {
   "cell_type": "code",
   "execution_count": null,
   "metadata": {},
   "outputs": [],
   "source": [
    "def make_pred(model):\n",
    "\n",
    "    proba = model.predict_proba(dfCurrentPredict)\n",
    "    pos_prob = proba[:, 1]\n",
    "    \n",
    "    combined_list = [[i, j] for i, j in zip(dfCurrentNames, pos_prob)]\n",
    "    combined_list = sorted(combined_list, key = itemgetter(1), reverse = True)\n",
    "    \n",
    "    for i in combined_list:\n",
    "        print(i)\n",
    "        \n",
    "    return pos_prob"
   ]
  },
  {
   "cell_type": "code",
   "execution_count": null,
   "metadata": {},
   "outputs": [],
   "source": [
    "svc_prob = make_pred(svc)"
   ]
  },
  {
   "cell_type": "code",
   "execution_count": null,
   "metadata": {},
   "outputs": [],
   "source": [
    "rf_prob = make_pred(rf)"
   ]
  },
  {
   "cell_type": "code",
   "execution_count": null,
   "metadata": {},
   "outputs": [],
   "source": [
    "knn_prob = make_pred(knn)"
   ]
  },
  {
   "cell_type": "code",
   "execution_count": null,
   "metadata": {},
   "outputs": [],
   "source": [
    "dnn_prob = make_pred(dnn)"
   ]
  },
  {
   "cell_type": "code",
   "execution_count": null,
   "metadata": {},
   "outputs": [],
   "source": [
    "avg_prob = []\n",
    "\n",
    "for i, j, k, l in zip(svc_prob, rf_prob, knn_prob, dnn_prob):\n",
    "    avg_prob.append((i + j + k + l) / 4)\n",
    "    \n",
    "avg_list = [[i, j] for i, j in zip(dfCurrentNames, avg_prob)]\n",
    "avg_list = sorted(avg_list, key = itemgetter(1), reverse = True)\n",
    "\n",
    "for i in avg_list:\n",
    "    print(i)"
   ]
  }
 ],
 "metadata": {
  "kernelspec": {
   "display_name": "Python 3",
   "language": "python",
   "name": "python3"
  },
  "language_info": {
   "codemirror_mode": {
    "name": "ipython",
    "version": 3
   },
   "file_extension": ".py",
   "mimetype": "text/x-python",
   "name": "python",
   "nbconvert_exporter": "python",
   "pygments_lexer": "ipython3",
   "version": "3.6.4"
  }
 },
 "nbformat": 4,
 "nbformat_minor": 2
}
